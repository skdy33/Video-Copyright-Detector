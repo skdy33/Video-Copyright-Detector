{
 "cells": [
  {
   "cell_type": "code",
   "execution_count": 1,
   "metadata": {
    "collapsed": true
   },
   "outputs": [],
   "source": [
    "import cv2\n",
    "import numpy as np"
   ]
  },
  {
   "cell_type": "code",
   "execution_count": null,
   "metadata": {
    "collapsed": true
   },
   "outputs": [],
   "source": [
    "\n",
    "class plagerism:\n",
    "    \n",
    "    def __init__(self,video):\n",
    "    \"\"\"\n",
    "    원본 영상을 받는다.\n",
    "    \"\"\"\n",
    "        \n",
    "    \n",
    "    def Cutting\n",
    "    \"\"\"\n",
    "    영상의 절단 후 재배포\n",
    "    \"\"\"\n",
    "    \n",
    "    def Padding\n",
    "    \"\"\"\n",
    "    영상 아래에 임의의 영상 혹은 사진 끼워넣기\n",
    "    \"\"\"\n",
    "    \n",
    "    def Slicing\n",
    "    \"\"\"\n",
    "    영상 일부분만 배포\n",
    "    \"\"\"\n",
    "    \n",
    "    def Dequalify\n",
    "    \"\"\"\n",
    "    영상 화질 낮추기\n",
    "    \"\"\"\n",
    "    \n",
    "    def Reverse\n",
    "    \"\"\"\n",
    "    좌우 대칭\n",
    "    \"\"\"\n",
    "    \n",
    "    def SpeedUp\n",
    "    \"\"\"\n",
    "    속도 빠르게 만들기.\n",
    "    \"\"\"\n",
    "    \n",
    "    def AudioChg\n",
    "    \"\"\"\n",
    "    음성 바꾸기\n",
    "    \"\"\"\n",
    "    \n",
    "    def Jodo\n",
    "    \"\"\"\n",
    "    조도 변화\n",
    "    \"\"\""
   ]
  }
 ],
 "metadata": {
  "kernelspec": {
   "display_name": "opencv python3",
   "language": "python",
   "name": "cv"
  },
  "language_info": {
   "codemirror_mode": {
    "name": "ipython",
    "version": 3
   },
   "file_extension": ".py",
   "mimetype": "text/x-python",
   "name": "python",
   "nbconvert_exporter": "python",
   "pygments_lexer": "ipython3",
   "version": "3.5.2"
  }
 },
 "nbformat": 4,
 "nbformat_minor": 2
}
