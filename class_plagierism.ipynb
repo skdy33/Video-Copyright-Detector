{
 "cells": [
  {
   "cell_type": "code",
   "execution_count": 1,
   "metadata": {
    "collapsed": true
   },
   "outputs": [],
   "source": [
    "import cv2\n",
    "import numpy as np"
   ]
  },
  {
   "cell_type": "code",
   "execution_count": 2,
   "metadata": {
    "collapsed": true
   },
   "outputs": [],
   "source": [
    "cap = cv2.VideoCapture(\"ex_starcraft.mp4\")\n"
   ]
  },
  {
   "cell_type": "code",
   "execution_count": 7,
   "metadata": {
    "collapsed": false
   },
   "outputs": [
    {
     "data": {
      "text/plain": [
       "3"
      ]
     },
     "execution_count": 7,
     "metadata": {},
     "output_type": "execute_result"
    }
   ],
   "source": [
    "cv2.CAP_PROP_FRAME_WIDTH"
   ]
  },
  {
   "cell_type": "code",
   "execution_count": 8,
   "metadata": {
    "collapsed": false
   },
   "outputs": [],
   "source": [
    "a,b =[1,2]"
   ]
  },
  {
   "cell_type": "code",
   "execution_count": 9,
   "metadata": {
    "collapsed": false
   },
   "outputs": [
    {
     "data": {
      "text/plain": [
       "1"
      ]
     },
     "execution_count": 9,
     "metadata": {},
     "output_type": "execute_result"
    }
   ],
   "source": [
    "a"
   ]
  },
  {
   "cell_type": "code",
   "execution_count": null,
   "metadata": {
    "collapsed": true
   },
   "outputs": [],
   "source": [
    "# Input data의 파일형식에 따라 FPS가 안맞을수도 있다.\n",
    "# 안 맞는 경우 파일형식의(예.avi) Header의 문제인데, 실험 때는 그냥 되는 파일형식으로 convert해서 사용하자.\n",
    "class plagerism:\n",
    "    \n",
    "    def __init__(self,video,out):\n",
    "    \"\"\"\n",
    "    원본 영상을 받는다.\n",
    "    input : \n",
    "    self = str of the video\n",
    "    out = str of the name of the output video, including \n",
    "    \"\"\"\n",
    "        self.cap = cv2.VideoCapture(video)\n",
    "        #Checking\n",
    "        if !(cap.isOpened()):\n",
    "            print (\"Problem reading a video file\")\n",
    "            return -1\n",
    "        \n",
    "        #the property of the video\n",
    "        self.width = cap.get(cv2.CAP_PROP_FRAME_WIDTH)\n",
    "        self.height = cap.get(cv2.CAP_PROP_FRAME_HEIGHT)\n",
    "        self.FPS = cap.get(cv2.CAP_PROP_FPS)\n",
    "\n",
    "            \n",
    "        try:\n",
    "            out_file, out_extension = out.split('.')\n",
    "            fourcc = cv2.VideoWriter_fourcc(*out_extension)\n",
    "        except:\n",
    "            print (\"I said write the name of the output including extension\")\n",
    "            return -1\n",
    "        \n",
    "        self.out = cv2.VideoWriter(out,fourcc,self.FPS,(self.width,self.height))\n",
    "        if !(out.isOpened()):\n",
    "            print (\"There might be a existing file that has your target name.\")\n",
    "            return -1\n",
    "        \n",
    "    \n",
    "    def Cutting\n",
    "    \"\"\"\n",
    "    영상의 절단 후 재배포\n",
    "    \"\"\"\n",
    "    \n",
    "    def Padding\n",
    "    \"\"\"\n",
    "    영상 아래에 임의의 영상 혹은 사진 끼워넣기\n",
    "    \"\"\"\n",
    "    \n",
    "    def Slicing\n",
    "    \"\"\"\n",
    "    영상 일부분만 배포\n",
    "    \"\"\"\n",
    "    \n",
    "    def Dequalify\n",
    "    \"\"\"\n",
    "    영상 화질 낮추기\n",
    "    \"\"\"\n",
    "    \n",
    "    def Reverse\n",
    "    \"\"\"\n",
    "    좌우 대칭\n",
    "    \"\"\"\n",
    "    \n",
    "    def SpeedUp\n",
    "    \"\"\"\n",
    "    속도 빠르게 만들기.\n",
    "    \"\"\"\n",
    "    \n",
    "    def AudioChg\n",
    "    \"\"\"\n",
    "    음성 바꾸기\n",
    "    \"\"\"\n",
    "    \n",
    "    def Jodo\n",
    "    \"\"\"\n",
    "    조도 변화\n",
    "    \"\"\""
   ]
  }
 ],
 "metadata": {
  "kernelspec": {
   "display_name": "opencv python3",
   "language": "python",
   "name": "cv"
  },
  "language_info": {
   "codemirror_mode": {
    "name": "ipython",
    "version": 3
   },
   "file_extension": ".py",
   "mimetype": "text/x-python",
   "name": "python",
   "nbconvert_exporter": "python",
   "pygments_lexer": "ipython3",
   "version": "3.5.2"
  }
 },
 "nbformat": 4,
 "nbformat_minor": 2
}
