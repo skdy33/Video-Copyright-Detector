{
 "cells": [
  {
   "cell_type": "code",
   "execution_count": 2,
   "metadata": {
    "collapsed": true,
    "deletable": true,
    "editable": true
   },
   "outputs": [],
   "source": [
    "import cv2\n",
    "import numpy as np"
   ]
  },
  {
   "cell_type": "code",
   "execution_count": 2,
   "metadata": {
    "collapsed": true,
    "deletable": true,
    "editable": true
   },
   "outputs": [],
   "source": [
    "cap = cv2.VideoCapture(\"신기루.mp4\")\n"
   ]
  },
  {
   "cell_type": "code",
   "execution_count": 3,
   "metadata": {
    "collapsed": false,
    "deletable": true,
    "editable": true
   },
   "outputs": [],
   "source": [
    "width = cap.get(cv2.CAP_PROP_FRAME_WIDTH)\n",
    "height = cap.get(cv2.CAP_PROP_FRAME_HEIGHT)\n",
    "FPS = cap.get(cv2.CAP_PROP_FPS)\n"
   ]
  },
  {
   "cell_type": "code",
   "execution_count": null,
   "metadata": {
    "collapsed": true,
    "deletable": true,
    "editable": true
   },
   "outputs": [],
   "source": [
    "#영상 절단"
   ]
  },
  {
   "cell_type": "code",
   "execution_count": 5,
   "metadata": {
    "collapsed": false,
    "deletable": true,
    "editable": true
   },
   "outputs": [],
   "source": [
    "while(cap.isOpened()):\n",
    "    \n",
    "    ret, frame = cap.read()\n",
    "    \n",
    "    # Display the resulting frame\n",
    "    cv2.imshow('frame',frame[0:10,100:1100])\n",
    "    if cv2.waitKey(1) & 0xFF == ord('q'):\n",
    "        cv2.destroyAllWindows()\n",
    "        break"
   ]
  },
  {
   "cell_type": "code",
   "execution_count": null,
   "metadata": {
    "collapsed": true,
    "deletable": true,
    "editable": true
   },
   "outputs": [],
   "source": [
    "# 영상 삽입\n",
    "# 이거 numpy array식 접근 되니까 개쉽네."
   ]
  },
  {
   "cell_type": "code",
   "execution_count": 17,
   "metadata": {
    "collapsed": false,
    "deletable": true,
    "editable": true
   },
   "outputs": [
    {
     "name": "stdout",
     "output_type": "stream",
     "text": [
      "H264\n"
     ]
    }
   ],
   "source": [
    "# 영상 속도는 videoWriter function에 FPS 명시하는게 있네\n",
    "pl = plagierism(\"신기루.mp4\",\"신기루_m.mp4\")"
   ]
  },
  {
   "cell_type": "code",
   "execution_count": 46,
   "metadata": {
    "collapsed": true,
    "deletable": true,
    "editable": true
   },
   "outputs": [],
   "source": [
    "pl.Cutting()"
   ]
  },
  {
   "cell_type": "code",
   "execution_count": 5,
   "metadata": {
    "collapsed": false
   },
   "outputs": [
    {
     "data": {
      "text/plain": [
       "960"
      ]
     },
     "execution_count": 5,
     "metadata": {},
     "output_type": "execute_result"
    }
   ],
   "source": [
    "int(height*(6/8))\n",
    "int(width*(6/8))"
   ]
  },
  {
   "cell_type": "code",
   "execution_count": 13,
   "metadata": {
    "collapsed": false,
    "deletable": true,
    "editable": true
   },
   "outputs": [],
   "source": [
    "# 일단 그냥 써지는지 check.\n",
    "\n",
    "# Defining writer\n",
    "cap = cv2.VideoCapture(\"신기루.mp4\")\n",
    "\n",
    "width = cap.get(cv2.CAP_PROP_FRAME_WIDTH)\n",
    "height = cap.get(cv2.CAP_PROP_FRAME_HEIGHT)\n",
    "FPS = cap.get(cv2.CAP_PROP_FPS)\n",
    "\n",
    "fourcc = cv2.VideoWriter_fourcc(*'XVID')\n",
    "out = cv2.VideoWriter(\"신기루_m.avi\",fourcc,FPS,(640,480))\n",
    "\n",
    "width = cap.get(cv2.CAP_PROP_FRAME_WIDTH)\n",
    "height = cap.get(cv2.CAP_PROP_FRAME_HEIGHT)\n",
    "FPS = cap.get(cv2.CAP_PROP_FPS)\n",
    "\n",
    "while(cap.isOpened()):\n",
    "    ret, frame = cap.read()\n",
    "    if ret == True:\n",
    "        frame = frame[int(height/8):int(height/8*7),int(width/8):int(width/8*7)]\n",
    "        frame = cv2.resize(frame,(640,480))\n",
    "        cv2.imshow('frame',frame)\n",
    "        out.write(frame)\n",
    "\n",
    "        if cv2.waitKey(1) & 0xFF ==ord('q'):\n",
    "            cap.release()\n",
    "            out.release()\n",
    "            cv2.destroyAllWindows()\n",
    "            break\n",
    "    else:\n",
    "        cv2.destroyAllWindows()\n",
    "        break\n",
    "\n",
    "cap.release()\n",
    "out.release()"
   ]
  },
  {
   "cell_type": "code",
   "execution_count": 16,
   "metadata": {
    "collapsed": false,
    "deletable": true,
    "editable": true
   },
   "outputs": [],
   "source": [
    "# Input data의 파일형식에 따라 FPS가 안맞을수도 있다.\n",
    "# 안 맞는 경우 파일형식의(예.avi) Header의 문제인데, 실험 때는 그냥 되는 파일형식으로 convert해서 사용하자.\n",
    "\n",
    "class plagierism:\n",
    "    \"\"\"\n",
    "    원본 영상을 받는다.\n",
    "    input : \n",
    "    self = str of the video\n",
    "    out = str of the name of the output video, including \n",
    "    \"\"\"\n",
    "    codec = {'mp4':'H264','avi':'XVID'}\n",
    "    \n",
    "    def __init__(self,video,out):\n",
    "\n",
    "        self.cap = cv2.VideoCapture(video)\n",
    "        #Checking\n",
    "        if (cap.isOpened()==False):\n",
    "            print (\"Problem reading a video file\")\n",
    "            return \n",
    "        \n",
    "        #the property of the video\n",
    "        self.width = cap.get(cv2.CAP_PROP_FRAME_WIDTH)\n",
    "        self.height = cap.get(cv2.CAP_PROP_FRAME_HEIGHT)\n",
    "        self.FPS = cap.get(cv2.CAP_PROP_FPS)\n",
    "\n",
    "            \n",
    "\n",
    "        out_file, out_extension = out.split('.')\n",
    "\n",
    "        dec = self.codec.get(out_extension,1)\n",
    "\n",
    "        if dec == 1:\n",
    "            return\n",
    "        print (dec)\n",
    "        try:    \n",
    "            fourcc = cv2.VideoWriter_fourcc(*'XVID') # 일단 output은 무조건 .avi\n",
    "        except:\n",
    "            print (\"I said write the name of the output including extension\")\n",
    "            return \n",
    "        # Output은 무조건 .avi\n",
    "        self.out = cv2.VideoWriter(out_file+'_m.avi',fourcc,self.FPS,(640,480))\n",
    "        if (self.out.isOpened()==False):\n",
    "            print (\"There might be a existing file that has your target name.\")\n",
    "            return \n",
    "        \n",
    "    \"\"\"\n",
    "    영상의 절단 후 재배포\n",
    "    \"\"\"    \n",
    "    def Cutting(self):\n",
    "        while(self.cap.isOpened()):\n",
    "            ret, frame = self.cap.read()\n",
    "            if ret == True:\n",
    "                print('writing')\n",
    "                frame = frame[int(height/8):int(height/8*7),int(width/8):int(width/8*7)]\n",
    "                frame = cv2.resize(frame,(640,480))\n",
    "                self.out.write(frame)\n",
    "                cv2.imshow('frame',frame)\n",
    "            else:\n",
    "                break\n",
    "        \n",
    "        cv2.destroyAllWindows()\n",
    "            \n",
    "    \"\"\"\n",
    "    영상 아래에 임의의 영상 혹은 사진 끼워넣기\n",
    "    data : background에 깔릴 영상 \n",
    "    \"\"\"\n",
    "    def Padding(self,data):\n",
    "        return\n",
    "    \n",
    "    \"\"\"\n",
    "    영상 일부분만 배포\n",
    "    \"\"\"\n",
    "    def Slicing(self):\n",
    "        return\n",
    "\n",
    "    \"\"\"\n",
    "    영상 화질 낮추기\n",
    "    \"\"\"\n",
    "    def Dequalify(self):\n",
    "        return\n",
    "\n",
    "    \"\"\"\n",
    "    좌우 대칭\n",
    "    flip\n",
    "    \"\"\"\n",
    "    def Flip(self):\n",
    "        return\n",
    "    \n",
    "    \"\"\"\n",
    "    속도 빠르게 만들기.\n",
    "    \"\"\"\n",
    "    def SpeedUp(self):\n",
    "        return\n",
    "    \n",
    "    \"\"\"\n",
    "    음성 바꾸기\n",
    "    \"\"\"\n",
    "    def AudioChg(self):\n",
    "        return    \n",
    "    \n",
    "    \"\"\"\n",
    "    조도 변화\n",
    "    \"\"\"\n",
    "    def Jodo(self):\n",
    "        return\n"
   ]
  },
  {
   "cell_type": "code",
   "execution_count": 13,
   "metadata": {
    "collapsed": false,
    "deletable": true,
    "editable": true
   },
   "outputs": [
    {
     "data": {
      "text/plain": [
       "True"
      ]
     },
     "execution_count": 13,
     "metadata": {},
     "output_type": "execute_result"
    }
   ],
   "source": []
  }
 ],
 "metadata": {
  "kernelspec": {
   "display_name": "opencv python3",
   "language": "python",
   "name": "cv"
  },
  "language_info": {
   "codemirror_mode": {
    "name": "ipython",
    "version": 3
   },
   "file_extension": ".py",
   "mimetype": "text/x-python",
   "name": "python",
   "nbconvert_exporter": "python",
   "pygments_lexer": "ipython3",
   "version": "3.5.2"
  }
 },
 "nbformat": 4,
 "nbformat_minor": 2
}
